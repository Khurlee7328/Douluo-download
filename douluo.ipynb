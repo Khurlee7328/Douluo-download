{
 "cells": [
  {
   "cell_type": "code",
   "execution_count": 7,
   "metadata": {},
   "outputs": [],
   "source": [
    "import os\n",
    "import requests\n",
    "from bs4 import BeautifulSoup\n",
    "headers = {'User-Agent':'Mozilla/5.0 (Windows NT 10.0; Win64; x64) AppleWebKit/537.36 (KHTML, like Gecko) Chrome/73.0.3683.75 Safari/537.36'}\n",
    "home_url ='https://v.qq.com/x/cover/m441e3rjq9kwpsc/m00253deqqo.html'"
   ]
  },
  {
   "cell_type": "code",
   "execution_count": 2,
   "metadata": {},
   "outputs": [],
   "source": [
    "douluohome = requests.get(home_url,headers=headers)\n",
    "douluohome.encoding='utf-8'\n",
    "douluosoup = BeautifulSoup(douluohome.text,'html.parser')\n",
    "douluolist = douluosoup.select('.mod_episode')[0].select('a')"
   ]
  },
  {
   "cell_type": "code",
   "execution_count": 4,
   "metadata": {
    "scrolled": false
   },
   "outputs": [],
   "source": [
    "lists = []\n",
    "for i in range(len(douluolist)):\n",
    "    lists.append('https://v.qq.com'+douluolist[i]['href'])"
   ]
  },
  {
   "cell_type": "code",
   "execution_count": null,
   "metadata": {
    "scrolled": true
   },
   "outputs": [],
   "source": [
    "for i in range(len(lists)):\n",
    "    try:\n",
    "        print(os.popen('you-get {}'.format(lists[i])).read())\n",
    "    except:\n",
    "        pass\n",
    "    continue"
   ]
  }
 ],
 "metadata": {
  "kernelspec": {
   "display_name": "Python 3",
   "language": "python",
   "name": "python3"
  },
  "language_info": {
   "codemirror_mode": {
    "name": "ipython",
    "version": 3
   },
   "file_extension": ".py",
   "mimetype": "text/x-python",
   "name": "python",
   "nbconvert_exporter": "python",
   "pygments_lexer": "ipython3",
   "version": "3.6.0"
  }
 },
 "nbformat": 4,
 "nbformat_minor": 2
}
